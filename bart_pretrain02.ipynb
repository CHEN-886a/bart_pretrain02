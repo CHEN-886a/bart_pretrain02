{
  "nbformat": 4,
  "nbformat_minor": 0,
  "metadata": {
    "colab": {
      "provenance": [],
      "authorship_tag": "ABX9TyPTBX80ieSXlWPU21QcOR2O",
      "include_colab_link": true
    },
    "kernelspec": {
      "name": "python3",
      "display_name": "Python 3"
    },
    "language_info": {
      "name": "python"
    }
  },
  "cells": [
    {
      "cell_type": "markdown",
      "metadata": {
        "id": "view-in-github",
        "colab_type": "text"
      },
      "source": [
        "<a href=\"https://colab.research.google.com/github/CHEN-886a/bart_pretrain02/blob/main/bart_pretrain02.ipynb\" target=\"_parent\"><img src=\"https://colab.research.google.com/assets/colab-badge.svg\" alt=\"Open In Colab\"/></a>"
      ]
    },
    {
      "cell_type": "code",
      "execution_count": 3,
      "metadata": {
        "colab": {
          "base_uri": "https://localhost:8080/"
        },
        "id": "-pZIHGt4YsEG",
        "outputId": "771f0970-bef1-4e29-d122-df54d03c8e2d"
      },
      "outputs": [
        {
          "output_type": "stream",
          "name": "stdout",
          "text": [
            "Drive already mounted at /content/drive; to attempt to forcibly remount, call drive.mount(\"/content/drive\", force_remount=True).\n"
          ]
        }
      ],
      "source": [
        "from google.colab import drive\n",
        "drive.mount('/content/drive')\n"
      ]
    },
    {
      "cell_type": "code",
      "source": [
        "import torch\n",
        "from transformers import BartTokenizer, BartForConditionalGeneration, Trainer, TrainingArguments, DataCollatorForSeq2Seq\n",
        "import json\n",
        "\n",
        "class FinancialNewsDataset(torch.utils.data.Dataset):\n",
        "    def __init__(self, file_path, tokenizer, max_length=512):\n",
        "        self.data = []\n",
        "        with open(file_path, 'r', encoding='utf-8') as f:\n",
        "            for line in f:\n",
        "                self.data.append(json.loads(line))\n",
        "        self.tokenizer = tokenizer\n",
        "        self.max_length = max_length\n",
        "\n",
        "    def __len__(self):\n",
        "        return len(self.data)\n",
        "\n",
        "    def __getitem__(self, idx):\n",
        "        record = self.data[idx]\n",
        "        company_name = record[\"input\"][\"company_name\"]\n",
        "        news_content = record[\"input\"][\"content\"]\n",
        "        combined_input = f\"{company_name}: {news_content}\"\n",
        "        summary = record[\"output\"]\n",
        "\n",
        "        inputs = self.tokenizer(combined_input, return_tensors=\"pt\", max_length=self.max_length, truncation=True, padding=\"max_length\")\n",
        "        outputs = self.tokenizer(summary, return_tensors=\"pt\", max_length=self.max_length, truncation=True, padding=\"max_length\")\n",
        "\n",
        "        return {\n",
        "            \"input_ids\": inputs[\"input_ids\"].squeeze(),\n",
        "            \"attention_mask\": inputs[\"attention_mask\"].squeeze(),\n",
        "            \"labels\": outputs[\"input_ids\"].squeeze()\n",
        "        }\n",
        "\n",
        "# 加载分词器和数据集\n",
        "tokenizer = BartTokenizer.from_pretrained('facebook/bart-base')\n",
        "train_file_path = \"/content/drive/MyDrive/colab notebook/data/train_dataset_bart_02.jsonl\"\n",
        "test_file_path = \"/content/drive/MyDrive/colab notebook/data/test_dataset_bart_02.jsonl\"\n",
        "\n",
        "train_dataset = FinancialNewsDataset(train_file_path, tokenizer)\n",
        "test_dataset = FinancialNewsDataset(test_file_path, tokenizer)\n",
        "\n",
        "# 检查 GPU 可用性\n",
        "device = torch.device(\"cuda\" if torch.cuda.is_available() else \"cpu\")\n",
        "print(f\"Using device: {device}\")\n",
        "\n",
        "# 加载预训练模型并调整层数\n",
        "model = BartForConditionalGeneration.from_pretrained('facebook/bart-base', num_hidden_layers=12)  # 增加Decoder层数\n",
        "model.to(device)\n",
        "\n",
        "# 设置训练参数\n",
        "training_args = TrainingArguments(\n",
        "    output_dir='/content/drive/MyDrive/colab notebook/results',\n",
        "    num_train_epochs=5,  # 增加训练轮数\n",
        "    per_device_train_batch_size=4,  # 根据GPU内存调整批量大小\n",
        "    per_device_eval_batch_size=4,\n",
        "    save_steps=1000,  # 调整保存频率\n",
        "    save_total_limit=3,\n",
        "    logging_dir='/content/drive/MyDrive/colab notebook/logs',\n",
        "    logging_steps=100,\n",
        "    eval_strategy=\"steps\",\n",
        "    eval_steps=500,  # 调整评估频率\n",
        "    load_best_model_at_end=True,\n",
        "    metric_for_best_model=\"loss\"\n",
        ")\n",
        "\n",
        "data_collator = DataCollatorForSeq2Seq(tokenizer, model=model)\n",
        "\n",
        "# 定义训练器\n",
        "trainer = Trainer(\n",
        "    model=model,\n",
        "    args=training_args,\n",
        "    train_dataset=train_dataset,\n",
        "    eval_dataset=test_dataset,\n",
        "    data_collator=data_collator,\n",
        ")\n",
        "\n",
        "# 开始训练\n",
        "trainer.train()\n",
        "\n",
        "# 保存模型和分词器\n",
        "model.save_pretrained('/content/drive/MyDrive/colab notebook/results/trained_model')\n",
        "tokenizer.save_pretrained('/content/drive/MyDrive/colab notebook/results/trained_model')\n"
      ],
      "metadata": {
        "id": "VjNQJl8TZAoz"
      },
      "execution_count": null,
      "outputs": []
    },
    {
      "cell_type": "code",
      "source": [
        "from transformers import BartTokenizer, BartForConditionalGeneration\n",
        "\n",
        "# 加载模型和分词器\n",
        "model_path = 'trained_model'\n",
        "tokenizer = BartTokenizer.from_pretrained(model_path)\n",
        "model = BartForConditionalGeneration.from_pretrained(model_path)\n",
        "# Move the model to the device\n",
        "model.to(device)\n",
        "\n",
        "# 输入文本示例\n",
        "input_text = \"Mainland China and Hong Kong stocks ended lower, with a key index logging its fifth straight losing session. Investors were disappointed by a lack of policy stimulus measures amid a weak economic recovery, rising geopolitical tensions and foreign outflows.In France, a leftist alliance unexpectedly took top spot ahead of the far right in Sunday's election, a major upset that was set to prevent Marine Le Pen's National Rally from running the government.The weaker than expected showing for the far right was something of a relief for investors, though they also have concerns the left s plans could unwind many of President Emmanuel Macrons pro-market reforms\"\n",
        "\n",
        "# 处理输入并生成摘要\n",
        "inputs = tokenizer(input_text, return_tensors=\"pt\").to(device) # Move the input tensors to the device\n",
        "summary_ids = model.generate(inputs['input_ids'])\n",
        "\n",
        "# 解码摘要并打印结果\n",
        "summary = tokenizer.decode(summary_ids[0], skip_special_tokens=True)\n",
        "print(\"Generated Summary:\", summary)"
      ],
      "metadata": {
        "id": "NJ720tyCZFXf"
      },
      "execution_count": null,
      "outputs": []
    }
  ]
}